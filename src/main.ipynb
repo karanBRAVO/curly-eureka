{
 "cells": [
  {
   "cell_type": "markdown",
   "metadata": {},
   "source": [
    "# ML-Challenge 2024"
   ]
  },
  {
   "cell_type": "markdown",
   "metadata": {},
   "source": [
    "## Problem Statement\n",
    "\n",
    "goal is to create a machine learning model that extracts entity values from images.\n",
    "\n",
    "Output Format: `index, prediction`\n",
    "\n",
    "Evaluation: `F1 Score`"
   ]
  },
  {
   "cell_type": "markdown",
   "metadata": {},
   "source": [
    "## Steps\n",
    "\n",
    "1. Download the images\n",
    "2. Data pre-processing\n",
    "    1. Resize the image\n",
    "    2. normalize the pixel values [0, 1]\n",
    "    3. encode entity_names\n",
    "3. Feature Extraction\n",
    "    1. From images: `Resnet`, `CLIP`, `EfficientNet`, `OCR`"
   ]
  },
  {
   "cell_type": "markdown",
   "metadata": {},
   "source": [
    "## Inputs & Outputs to Model\n",
    "\n",
    "Inputs:\n",
    "\n",
    "1. `Image`: The product image, which contains visual information like dimensions, weight, wattage, etc.\n",
    "2. `Entity Name`: A textual descriptor indicating the type of information you need to extract from the image, such as \"item_weight,\" \"voltage,\" or \"width.\"\n",
    "\n",
    "Output:\n",
    "\n",
    "1. `Entity Value`: A string that combines a numerical value and a unit (e.g., \"34 gram\", \"12.5 centimetre\")."
   ]
  },
  {
   "cell_type": "code",
   "execution_count": 1,
   "metadata": {},
   "outputs": [
    {
     "name": "stdout",
     "output_type": "stream",
     "text": [
      "Imports done.\n"
     ]
    }
   ],
   "source": [
    "# imports\n",
    "import pandas as pd\n",
    "import numpy as np\n",
    "import torch\n",
    "from torchvision import transforms\n",
    "from PIL import Image, ImageEnhance, ImageFilter\n",
    "import cv2\n",
    "import matplotlib.pyplot as plt\n",
    "import os\n",
    "from sklearn.model_selection import train_test_split\n",
    "import os\n",
    "import pandas as pd\n",
    "import multiprocessing\n",
    "import time\n",
    "from time import time as timer\n",
    "from tqdm import tqdm\n",
    "from pathlib import Path\n",
    "from functools import partial\n",
    "import urllib\n",
    "import pytesseract\n",
    "import easyocr\n",
    "\n",
    "print(\"Imports done.\")"
   ]
  },
  {
   "cell_type": "code",
   "execution_count": 2,
   "metadata": {},
   "outputs": [],
   "source": [
    "# constants\n",
    "entity_unit_map = {\n",
    "    'width': {\n",
    "        'centimetre',\n",
    "        'foot',\n",
    "        'inch',\n",
    "        'metre',\n",
    "        'millimetre',\n",
    "        'yard'\n",
    "    },\n",
    "    'depth': {\n",
    "        'centimetre',\n",
    "        'foot',\n",
    "        'inch',\n",
    "        'metre',\n",
    "        'millimetre',\n",
    "        'yard'\n",
    "    },\n",
    "    'height': {\n",
    "        'centimetre',\n",
    "        'foot',\n",
    "        'inch',\n",
    "        'metre',\n",
    "        'millimetre',\n",
    "        'yard'\n",
    "    },\n",
    "    'item_weight': {\n",
    "        'gram',\n",
    "        'kilogram',\n",
    "        'microgram',\n",
    "        'milligram',\n",
    "        'ounce',\n",
    "        'pound',\n",
    "        'ton'\n",
    "    },\n",
    "    'maximum_weight_recommendation': {\n",
    "        'gram',\n",
    "        'kilogram',\n",
    "        'microgram',\n",
    "        'milligram',\n",
    "        'ounce',\n",
    "        'pound',\n",
    "        'ton'\n",
    "    },\n",
    "    'voltage': {\n",
    "        'kilovolt',\n",
    "        'millivolt',\n",
    "        'volt'\n",
    "    },\n",
    "    'wattage': {\n",
    "        'kilowatt',\n",
    "        'watt'\n",
    "    },\n",
    "    'item_volume': {\n",
    "        'centilitre',\n",
    "        'cubic foot',\n",
    "        'cubic inch',\n",
    "        'cup',\n",
    "        'decilitre',\n",
    "        'fluid ounce',\n",
    "        'gallon',\n",
    "        'imperial gallon',\n",
    "        'litre',\n",
    "        'microlitre',\n",
    "        'millilitre',\n",
    "        'pint',\n",
    "        'quart'\n",
    "    }\n",
    "}\n",
    "\n",
    "allowed_units = {\n",
    "    unit for entity in entity_unit_map for unit in entity_unit_map[entity]}"
   ]
  },
  {
   "cell_type": "code",
   "execution_count": 3,
   "metadata": {},
   "outputs": [],
   "source": [
    "# paths\n",
    "dataset_dir_path = \"../dataset\"\n",
    "train_file_name = \"train.csv\"\n",
    "test_file_name = \"test.csv\"\n",
    "train_img_dir_path = \"../images/train\"\n",
    "test_img_dir_path = \"../images/test\""
   ]
  },
  {
   "cell_type": "code",
   "execution_count": 4,
   "metadata": {},
   "outputs": [
    {
     "name": "stdout",
     "output_type": "stream",
     "text": [
      "(263859, 4)\n"
     ]
    }
   ],
   "source": [
    "# load the train dataset\n",
    "train_dataset_path = os.path.join(dataset_dir_path, train_file_name)\n",
    "df = pd.read_csv(train_dataset_path)\n",
    "print(df.shape)"
   ]
  },
  {
   "cell_type": "code",
   "execution_count": 5,
   "metadata": {},
   "outputs": [
    {
     "name": "stdout",
     "output_type": "stream",
     "text": [
      "(131187, 4)\n"
     ]
    }
   ],
   "source": [
    "# load the test dataset\n",
    "test_dataset_path = os.path.join(dataset_dir_path, test_file_name)\n",
    "test_df = pd.read_csv(test_dataset_path)\n",
    "print(test_df.shape)"
   ]
  },
  {
   "cell_type": "code",
   "execution_count": 6,
   "metadata": {},
   "outputs": [
    {
     "data": {
      "text/html": [
       "<div>\n",
       "<style scoped>\n",
       "    .dataframe tbody tr th:only-of-type {\n",
       "        vertical-align: middle;\n",
       "    }\n",
       "\n",
       "    .dataframe tbody tr th {\n",
       "        vertical-align: top;\n",
       "    }\n",
       "\n",
       "    .dataframe thead th {\n",
       "        text-align: right;\n",
       "    }\n",
       "</style>\n",
       "<table border=\"1\" class=\"dataframe\">\n",
       "  <thead>\n",
       "    <tr style=\"text-align: right;\">\n",
       "      <th></th>\n",
       "      <th>image_link</th>\n",
       "      <th>group_id</th>\n",
       "      <th>entity_name</th>\n",
       "      <th>entity_value</th>\n",
       "    </tr>\n",
       "  </thead>\n",
       "  <tbody>\n",
       "    <tr>\n",
       "      <th>0</th>\n",
       "      <td>https://m.media-amazon.com/images/I/61I9XdN6OF...</td>\n",
       "      <td>748919</td>\n",
       "      <td>item_weight</td>\n",
       "      <td>500.0 gram</td>\n",
       "    </tr>\n",
       "    <tr>\n",
       "      <th>1</th>\n",
       "      <td>https://m.media-amazon.com/images/I/71gSRbyXmo...</td>\n",
       "      <td>916768</td>\n",
       "      <td>item_volume</td>\n",
       "      <td>1.0 cup</td>\n",
       "    </tr>\n",
       "    <tr>\n",
       "      <th>2</th>\n",
       "      <td>https://m.media-amazon.com/images/I/61BZ4zrjZX...</td>\n",
       "      <td>459516</td>\n",
       "      <td>item_weight</td>\n",
       "      <td>0.709 gram</td>\n",
       "    </tr>\n",
       "    <tr>\n",
       "      <th>3</th>\n",
       "      <td>https://m.media-amazon.com/images/I/612mrlqiI4...</td>\n",
       "      <td>459516</td>\n",
       "      <td>item_weight</td>\n",
       "      <td>0.709 gram</td>\n",
       "    </tr>\n",
       "    <tr>\n",
       "      <th>4</th>\n",
       "      <td>https://m.media-amazon.com/images/I/617Tl40LOX...</td>\n",
       "      <td>731432</td>\n",
       "      <td>item_weight</td>\n",
       "      <td>1400 milligram</td>\n",
       "    </tr>\n",
       "    <tr>\n",
       "      <th>5</th>\n",
       "      <td>https://m.media-amazon.com/images/I/61QsBSE7jg...</td>\n",
       "      <td>731432</td>\n",
       "      <td>item_weight</td>\n",
       "      <td>1400 milligram</td>\n",
       "    </tr>\n",
       "    <tr>\n",
       "      <th>6</th>\n",
       "      <td>https://m.media-amazon.com/images/I/81xsq6vf2q...</td>\n",
       "      <td>731432</td>\n",
       "      <td>item_weight</td>\n",
       "      <td>1400 milligram</td>\n",
       "    </tr>\n",
       "    <tr>\n",
       "      <th>7</th>\n",
       "      <td>https://m.media-amazon.com/images/I/71DiLRHeZd...</td>\n",
       "      <td>731432</td>\n",
       "      <td>item_weight</td>\n",
       "      <td>1400 milligram</td>\n",
       "    </tr>\n",
       "    <tr>\n",
       "      <th>8</th>\n",
       "      <td>https://m.media-amazon.com/images/I/91Cma3Rzse...</td>\n",
       "      <td>731432</td>\n",
       "      <td>item_weight</td>\n",
       "      <td>1400 milligram</td>\n",
       "    </tr>\n",
       "    <tr>\n",
       "      <th>9</th>\n",
       "      <td>https://m.media-amazon.com/images/I/71jBLhmTNl...</td>\n",
       "      <td>731432</td>\n",
       "      <td>item_weight</td>\n",
       "      <td>1400 milligram</td>\n",
       "    </tr>\n",
       "  </tbody>\n",
       "</table>\n",
       "</div>"
      ],
      "text/plain": [
       "                                          image_link  group_id  entity_name  \\\n",
       "0  https://m.media-amazon.com/images/I/61I9XdN6OF...    748919  item_weight   \n",
       "1  https://m.media-amazon.com/images/I/71gSRbyXmo...    916768  item_volume   \n",
       "2  https://m.media-amazon.com/images/I/61BZ4zrjZX...    459516  item_weight   \n",
       "3  https://m.media-amazon.com/images/I/612mrlqiI4...    459516  item_weight   \n",
       "4  https://m.media-amazon.com/images/I/617Tl40LOX...    731432  item_weight   \n",
       "5  https://m.media-amazon.com/images/I/61QsBSE7jg...    731432  item_weight   \n",
       "6  https://m.media-amazon.com/images/I/81xsq6vf2q...    731432  item_weight   \n",
       "7  https://m.media-amazon.com/images/I/71DiLRHeZd...    731432  item_weight   \n",
       "8  https://m.media-amazon.com/images/I/91Cma3Rzse...    731432  item_weight   \n",
       "9  https://m.media-amazon.com/images/I/71jBLhmTNl...    731432  item_weight   \n",
       "\n",
       "     entity_value  \n",
       "0      500.0 gram  \n",
       "1         1.0 cup  \n",
       "2      0.709 gram  \n",
       "3      0.709 gram  \n",
       "4  1400 milligram  \n",
       "5  1400 milligram  \n",
       "6  1400 milligram  \n",
       "7  1400 milligram  \n",
       "8  1400 milligram  \n",
       "9  1400 milligram  "
      ]
     },
     "execution_count": 6,
     "metadata": {},
     "output_type": "execute_result"
    }
   ],
   "source": [
    "df.head(10)"
   ]
  },
  {
   "cell_type": "code",
   "execution_count": 7,
   "metadata": {},
   "outputs": [
    {
     "data": {
      "text/html": [
       "<div>\n",
       "<style scoped>\n",
       "    .dataframe tbody tr th:only-of-type {\n",
       "        vertical-align: middle;\n",
       "    }\n",
       "\n",
       "    .dataframe tbody tr th {\n",
       "        vertical-align: top;\n",
       "    }\n",
       "\n",
       "    .dataframe thead th {\n",
       "        text-align: right;\n",
       "    }\n",
       "</style>\n",
       "<table border=\"1\" class=\"dataframe\">\n",
       "  <thead>\n",
       "    <tr style=\"text-align: right;\">\n",
       "      <th></th>\n",
       "      <th>index</th>\n",
       "      <th>image_link</th>\n",
       "      <th>group_id</th>\n",
       "      <th>entity_name</th>\n",
       "    </tr>\n",
       "  </thead>\n",
       "  <tbody>\n",
       "    <tr>\n",
       "      <th>0</th>\n",
       "      <td>0</td>\n",
       "      <td>https://m.media-amazon.com/images/I/110EibNycl...</td>\n",
       "      <td>156839</td>\n",
       "      <td>height</td>\n",
       "    </tr>\n",
       "    <tr>\n",
       "      <th>1</th>\n",
       "      <td>1</td>\n",
       "      <td>https://m.media-amazon.com/images/I/11TU2clswz...</td>\n",
       "      <td>792578</td>\n",
       "      <td>width</td>\n",
       "    </tr>\n",
       "    <tr>\n",
       "      <th>2</th>\n",
       "      <td>2</td>\n",
       "      <td>https://m.media-amazon.com/images/I/11TU2clswz...</td>\n",
       "      <td>792578</td>\n",
       "      <td>height</td>\n",
       "    </tr>\n",
       "    <tr>\n",
       "      <th>3</th>\n",
       "      <td>3</td>\n",
       "      <td>https://m.media-amazon.com/images/I/11TU2clswz...</td>\n",
       "      <td>792578</td>\n",
       "      <td>depth</td>\n",
       "    </tr>\n",
       "    <tr>\n",
       "      <th>4</th>\n",
       "      <td>4</td>\n",
       "      <td>https://m.media-amazon.com/images/I/11gHj8dhhr...</td>\n",
       "      <td>792578</td>\n",
       "      <td>depth</td>\n",
       "    </tr>\n",
       "    <tr>\n",
       "      <th>5</th>\n",
       "      <td>5</td>\n",
       "      <td>https://m.media-amazon.com/images/I/11gHj8dhhr...</td>\n",
       "      <td>792578</td>\n",
       "      <td>height</td>\n",
       "    </tr>\n",
       "    <tr>\n",
       "      <th>6</th>\n",
       "      <td>6</td>\n",
       "      <td>https://m.media-amazon.com/images/I/11gHj8dhhr...</td>\n",
       "      <td>792578</td>\n",
       "      <td>width</td>\n",
       "    </tr>\n",
       "    <tr>\n",
       "      <th>7</th>\n",
       "      <td>7</td>\n",
       "      <td>https://m.media-amazon.com/images/I/11lshEUmCr...</td>\n",
       "      <td>156839</td>\n",
       "      <td>height</td>\n",
       "    </tr>\n",
       "    <tr>\n",
       "      <th>8</th>\n",
       "      <td>8</td>\n",
       "      <td>https://m.media-amazon.com/images/I/21+i52HRW4...</td>\n",
       "      <td>478357</td>\n",
       "      <td>width</td>\n",
       "    </tr>\n",
       "    <tr>\n",
       "      <th>9</th>\n",
       "      <td>9</td>\n",
       "      <td>https://m.media-amazon.com/images/I/21-LmSmehZ...</td>\n",
       "      <td>478357</td>\n",
       "      <td>height</td>\n",
       "    </tr>\n",
       "  </tbody>\n",
       "</table>\n",
       "</div>"
      ],
      "text/plain": [
       "   index                                         image_link  group_id  \\\n",
       "0      0  https://m.media-amazon.com/images/I/110EibNycl...    156839   \n",
       "1      1  https://m.media-amazon.com/images/I/11TU2clswz...    792578   \n",
       "2      2  https://m.media-amazon.com/images/I/11TU2clswz...    792578   \n",
       "3      3  https://m.media-amazon.com/images/I/11TU2clswz...    792578   \n",
       "4      4  https://m.media-amazon.com/images/I/11gHj8dhhr...    792578   \n",
       "5      5  https://m.media-amazon.com/images/I/11gHj8dhhr...    792578   \n",
       "6      6  https://m.media-amazon.com/images/I/11gHj8dhhr...    792578   \n",
       "7      7  https://m.media-amazon.com/images/I/11lshEUmCr...    156839   \n",
       "8      8  https://m.media-amazon.com/images/I/21+i52HRW4...    478357   \n",
       "9      9  https://m.media-amazon.com/images/I/21-LmSmehZ...    478357   \n",
       "\n",
       "  entity_name  \n",
       "0      height  \n",
       "1       width  \n",
       "2      height  \n",
       "3       depth  \n",
       "4       depth  \n",
       "5      height  \n",
       "6       width  \n",
       "7      height  \n",
       "8       width  \n",
       "9      height  "
      ]
     },
     "execution_count": 7,
     "metadata": {},
     "output_type": "execute_result"
    }
   ],
   "source": [
    "test_df.head(10)"
   ]
  },
  {
   "cell_type": "code",
   "execution_count": 8,
   "metadata": {},
   "outputs": [],
   "source": [
    "# helpers\n",
    "def get_image_name_from_url(url: str) -> str:\n",
    "    return url.split('/')[-1]\n",
    "\n",
    "\n",
    "def create_placeholder_image(image_save_path):\n",
    "    try:\n",
    "        placeholder_image = Image.new('RGB', (100, 100), color='black')\n",
    "        placeholder_image.save(image_save_path)\n",
    "    except Exception as e:\n",
    "        return\n",
    "\n",
    "\n",
    "def download_image(image_link, save_folder, retries=3, delay=3):\n",
    "    if not isinstance(image_link, str):\n",
    "        return\n",
    "\n",
    "    filename = Path(image_link).name\n",
    "    image_save_path = os.path.join(save_folder, filename)\n",
    "\n",
    "    if os.path.exists(image_save_path):\n",
    "        return\n",
    "\n",
    "    for _ in range(retries):\n",
    "        try:\n",
    "            urllib.request.urlretrieve(image_link, image_save_path)\n",
    "            return\n",
    "        except:\n",
    "            time.sleep(delay)\n",
    "\n",
    "    # Create a black placeholder image for invalid links/images\n",
    "    create_placeholder_image(image_save_path)\n",
    "\n",
    "\n",
    "def download_images(image_links, download_folder, allow_multiprocessing=True):\n",
    "    if not os.path.exists(download_folder):\n",
    "        os.makedirs(download_folder)\n",
    "\n",
    "    if allow_multiprocessing:\n",
    "        download_image_partial = partial(\n",
    "            download_image, save_folder=download_folder, retries=3, delay=3)\n",
    "\n",
    "        with multiprocessing.Pool(64) as pool:\n",
    "            list(tqdm(pool.imap(download_image_partial,\n",
    "                 image_links), total=len(image_links)))\n",
    "            pool.close()\n",
    "            pool.join()\n",
    "    else:\n",
    "        for image_link in tqdm(image_links, total=len(image_links)):\n",
    "            download_image(\n",
    "                image_link, save_folder=download_folder, retries=3, delay=3)\n",
    "\n",
    "\n",
    "def preprocess_image(image_path):\n",
    "    transform = transforms.Compose([\n",
    "        transforms.Resize((224, 224)),\n",
    "        transforms.ToTensor(),\n",
    "        transforms.Normalize(mean=[0.485, 0.456, 0.406],\n",
    "                             std=[0.229, 0.224, 0.225])\n",
    "    ])\n",
    "    image = Image.open(image_path).convert('RGB')\n",
    "    return transform(image)"
   ]
  },
  {
   "cell_type": "code",
   "execution_count": 9,
   "metadata": {},
   "outputs": [
    {
     "name": "stdout",
     "output_type": "stream",
     "text": [
      "(263859, 4)\n",
      "(131187, 4)\n"
     ]
    }
   ],
   "source": [
    "# pre-processing\n",
    "df = df.dropna()\n",
    "df = df.drop_duplicates()\n",
    "\n",
    "test_df = test_df.dropna()\n",
    "test_df = test_df.drop_duplicates()\n",
    "\n",
    "print(df.shape)\n",
    "print(test_df.shape)"
   ]
  },
  {
   "cell_type": "code",
   "execution_count": 10,
   "metadata": {},
   "outputs": [
    {
     "name": "stdout",
     "output_type": "stream",
     "text": [
      "Train Dataframe: (211087, 4)\n",
      "Validation Dataframe: (52772, 4)\n"
     ]
    }
   ],
   "source": [
    "# split the dataset\n",
    "train_df, val_df = train_test_split(\n",
    "    df,\n",
    "    test_size=.2,\n",
    "    random_state=98,\n",
    "    shuffle=True\n",
    ")\n",
    "\n",
    "print(\"Train Dataframe:\", train_df.shape)\n",
    "print(\"Validation Dataframe:\", val_df.shape)"
   ]
  },
  {
   "cell_type": "code",
   "execution_count": 11,
   "metadata": {},
   "outputs": [
    {
     "name": "stdout",
     "output_type": "stream",
     "text": [
      "Ratio = Unique Images / Total Images\n",
      "Train: 205963 / 211087\n",
      "Validation: 52456 / 52772\n",
      "Test: 90666 / 131187\n"
     ]
    }
   ],
   "source": [
    "print(\"Ratio = Unique Images / Total Images\")\n",
    "\n",
    "unique_train_imgs = len(list(set(train_df['image_link'].to_list())))\n",
    "unique_val_imgs = len(list(set(val_df['image_link'].to_list())))\n",
    "unique_test_imgs = len(list(set(test_df['image_link'].to_list())))\n",
    "\n",
    "print(\"Train: \" + str(unique_train_imgs) + \" / \" + str(train_df.shape[0]))\n",
    "print(\"Validation: \" + str(unique_val_imgs) + \" / \" + str(val_df.shape[0]))\n",
    "print(\"Test: \" + str(unique_test_imgs) + \" / \" + str(test_df.shape[0]))"
   ]
  },
  {
   "cell_type": "code",
   "execution_count": null,
   "metadata": {},
   "outputs": [],
   "source": [
    "# download images\n",
    "train_images = train_df['image_link']\n",
    "val_images = val_df['image_link']\n",
    "test_images = test_df['image_link']\n",
    "\n",
    "train_images_path = os.path.join(train_img_dir_path, \"train\")\n",
    "val_images_path = os.path.join(train_img_dir_path, \"val\")\n",
    "\n",
    "print(\"\\nDownloading train images...\")\n",
    "download_images(train_images, train_images_path, False)\n",
    "\n",
    "print(\"\\nDownloading validation images...\")\n",
    "download_images(val_images, val_images_path, False)\n",
    "\n",
    "print(\"\\nDownloading test images...\")\n",
    "download_images(test_images, test_img_dir_path, False)\n",
    "\n",
    "print(\"\\nTrain images:\", len(os.listdir(train_images_path)))\n",
    "print(\"Validation images:\", len(os.listdir(val_images_path)))\n",
    "print(\"Test images:\", len(os.listdir(test_img_dir_path)))"
   ]
  },
  {
   "cell_type": "code",
   "execution_count": 2,
   "metadata": {},
   "outputs": [],
   "source": [
    "# easyocr reader\n",
    "reader = easyocr.Reader(['en'], gpu=True)"
   ]
  },
  {
   "cell_type": "code",
   "execution_count": 12,
   "metadata": {},
   "outputs": [],
   "source": [
    "# helpers\n",
    "def display_image(label: str, image, eject: bool):\n",
    "    if isinstance(image, torch.Tensor):\n",
    "        image = tensor_to_image(image)\n",
    "\n",
    "    if eject:\n",
    "        cv2.imshow(label, image)\n",
    "        cv2.waitKey(0)\n",
    "        cv2.destroyAllWindows()\n",
    "    else:\n",
    "        rgb_image = cv2.cvtColor(image, cv2.COLOR_BGR2RGB)\n",
    "        plt.imshow(rgb_image)\n",
    "        plt.axis('off')\n",
    "        plt.show()\n",
    "\n",
    "\n",
    "def tensor_to_image(tensor):\n",
    "    # Remove batch dimension and convert to NumPy\n",
    "    image = tensor.squeeze(0).permute(1, 2, 0).detach().numpy()\n",
    "    # Denormalize image (undo mean/std normalization)\n",
    "    image = image * np.array([0.229, 0.224, 0.225]) + \\\n",
    "        np.array([0.485, 0.456, 0.406])\n",
    "    # Convert range from [0, 1] to [0, 255]\n",
    "    image = np.clip(image * 255.0, 0, 255).astype(np.uint8)\n",
    "    return image\n",
    "\n",
    "\n",
    "def extract_text(image, b: bool):\n",
    "    text = \"\"\n",
    "    if b:\n",
    "        text = reader.readtext(image, detail=0, paragraph=True)\n",
    "    else:\n",
    "        pil_image = Image.fromarray(image)\n",
    "        text = pytesseract.image_to_string(pil_image)\n",
    "    return text\n",
    "\n",
    "\n",
    "def process_image_for_clear_text(image_path):\n",
    "    # Step 1: Load the image\n",
    "    image = cv2.imread(image_path)\n",
    "\n",
    "    if image is None:\n",
    "        raise ValueError(\"Image not found or invalid image path\")\n",
    "\n",
    "    # Step 2: Convert to Grayscale\n",
    "    grayscale_image = cv2.cvtColor(image, cv2.COLOR_BGR2GRAY)\n",
    "\n",
    "    # Step 3: Invert the image\n",
    "    inverted_image = cv2.bitwise_not(grayscale_image)\n",
    "    # return inverted_image\n",
    "\n",
    "    clahe = cv2.createCLAHE(clipLimit=2.0, tileGridSize=(8, 8))\n",
    "    contrast_enhanced = clahe.apply(inverted_image)\n",
    "\n",
    "    return contrast_enhanced"
   ]
  },
  {
   "cell_type": "code",
   "execution_count": 13,
   "metadata": {},
   "outputs": [],
   "source": [
    "def preprocess_image_pil(image_path):\n",
    "    img = Image.open(image_path)\n",
    "    img = img.convert('L')\n",
    "    img = img.filter(ImageFilter.SHARPEN)\n",
    "    img = ImageEnhance.Contrast(img).enhance(1.5)\n",
    "    img_array = np.array(img)\n",
    "    return img_array"
   ]
  },
  {
   "cell_type": "code",
   "execution_count": null,
   "metadata": {},
   "outputs": [],
   "source": [
    "training_images = train_images.to_list()\n",
    "total_images = 2\n",
    "\n",
    "for i in range(total_images):\n",
    "    img_name = get_image_name_from_url(training_images[i])\n",
    "    img_path = os.path.normpath(os.path.join(train_images_path, img_name))\n",
    "\n",
    "    if not os.path.exists(img_path):\n",
    "        print(f\"[!] {img_path} Not found\")\n",
    "    else:\n",
    "        print(img_path)\n",
    "        img = cv2.imread(img_path)\n",
    "        display_image(\"Image\", img, False)\n",
    "\n",
    "        pil_img = preprocess_image_pil(img_path)\n",
    "        display_image(\"Image\", pil_img, False)\n",
    "\n",
    "        img_text = extract_text(pil_img, True)\n",
    "        print(img_text)\n",
    "\n",
    "        # processed_img = process_image_for_clear_text(img_path)\n",
    "        # display_image(\"Image\", processed_img, False)\n",
    "\n",
    "        # img_text = extract_text(processed_img, True)\n",
    "        # print(img_text)"
   ]
  },
  {
   "cell_type": "code",
   "execution_count": 16,
   "metadata": {},
   "outputs": [],
   "source": [
    "from transformers import BitsAndBytesConfig, Qwen2VLForConditionalGeneration, AutoProcessor\n",
    "from qwen_vl_utils import process_vision_info"
   ]
  },
  {
   "cell_type": "code",
   "execution_count": 21,
   "metadata": {},
   "outputs": [],
   "source": [
    "bnb_config = BitsAndBytesConfig(\n",
    "    load_in_8bit=True,\n",
    "    llm_int8_threshold=200.0,\n",
    "    llm_int8_enable_fp32_cpu_offload=True\n",
    ")"
   ]
  },
  {
   "cell_type": "code",
   "execution_count": null,
   "metadata": {},
   "outputs": [],
   "source": [
    "# default: Load the model on the available device(s)\n",
    "model = Qwen2VLForConditionalGeneration.from_pretrained(\n",
    "    \"Qwen/Qwen2-VL-7B-Instruct\",\n",
    "    torch_dtype=\"auto\",\n",
    "    device_map=\"auto\",\n",
    "    quantization_config=bnb_config,\n",
    ")\n",
    "\n",
    "# We recommend enabling flash_attention_2 for better acceleration and memory saving, especially in multi-image and video scenarios.\n",
    "# model = Qwen2VLForConditionalGeneration.from_pretrained(\n",
    "#     \"Qwen/Qwen2-VL-7B-Instruct\",\n",
    "#     torch_dtype=torch.bfloat16,\n",
    "#     attn_implementation=\"flash_attention_2\",\n",
    "#     device_map=\"auto\",\n",
    "# )"
   ]
  },
  {
   "cell_type": "code",
   "execution_count": 23,
   "metadata": {},
   "outputs": [],
   "source": [
    "# default processer\n",
    "processor = AutoProcessor.from_pretrained(\"Qwen/Qwen2-VL-7B-Instruct\")\n",
    "\n",
    "# The default range for the number of visual tokens per image in the model is 4-16384. You can set min_pixels and max_pixels according to your needs, such as a token count range of 256-1280, to balance speed and memory usage.\n",
    "# min_pixels = 256*28*28\n",
    "# max_pixels = 1280*28*28\n",
    "# processor = AutoProcessor.from_pretrained(\"Qwen/Qwen2-VL-7B-Instruct\", min_pixels=min_pixels, max_pixels=max_pixels)"
   ]
  },
  {
   "cell_type": "code",
   "execution_count": 34,
   "metadata": {},
   "outputs": [
    {
     "data": {
      "image/png": "[encoded data removed]",
      "text/plain": [
       "<Figure size 640x480 with 1 Axes>"
      ]
     },
     "metadata": {},
     "output_type": "display_data"
    }
   ],
   "source": [
    "image_path = \"..\\\\images\\\\test\\\\110EibNyclL.jpg\"\n",
    "\n",
    "image = cv2.imread(image_path)\n",
    "display_image(\"Image\", image, False)"
   ]
  },
  {
   "cell_type": "code",
   "execution_count": 53,
   "metadata": {},
   "outputs": [],
   "source": [
    "def _process(img_path):\n",
    "    # Read the image\n",
    "    img = cv2.imread(img_path)\n",
    "\n",
    "    # Convert the image to grayscale\n",
    "    gray = cv2.cvtColor(img, cv2.COLOR_BGR2GRAY)\n",
    "\n",
    "    # Apply Gaussian Blur to reduce noise\n",
    "    blurred = cv2.GaussianBlur(gray, (3, 3), 0)\n",
    "\n",
    "    # Use adaptive thresholding to enhance text\n",
    "    enhanced_text = cv2.adaptiveThreshold(blurred, 255,\n",
    "                                          cv2.ADAPTIVE_THRESH_GAUSSIAN_C,\n",
    "                                          cv2.THRESH_BINARY, 11, 2)\n",
    "\n",
    "    # Sharpen the image to make text crisper\n",
    "    kernel_sharpen = np.array([[-1, -1, -1],\n",
    "                               [-1,  9, -1],\n",
    "                               [-1, -1, -1]])\n",
    "    sharpened = cv2.filter2D(enhanced_text, -1, kernel_sharpen)\n",
    "\n",
    "    kernel = np.ones((2, 2), np.uint8)\n",
    "    # To make the text thinner (erosion)\n",
    "    # eroded = cv2.erode(sharpened, kernel, iterations=1)\n",
    "    dilated = cv2.dilate(sharpened, kernel, iterations=1)\n",
    "\n",
    "    return dilated"
   ]
  },
  {
   "cell_type": "code",
   "execution_count": 54,
   "metadata": {},
   "outputs": [
    {
     "data": {
      "image/png": "[encoded data removed]",
      "text/plain": [
       "<Figure size 640x480 with 1 Axes>"
      ]
     },
     "metadata": {},
     "output_type": "display_data"
    }
   ],
   "source": [
    "processed_image = _process(image_path)\n",
    "display_image(\"processed_image\", processed_image, False)"
   ]
  },
  {
   "cell_type": "code",
   "execution_count": 25,
   "metadata": {},
   "outputs": [],
   "source": [
    "# message and prompt\n",
    "prompt = \"\"\"\n",
    "Please analyze the image and provide a detailed list of all measurable properties and specifications shown, including but not limited to:\n",
    "\n",
    "{\n",
    "    length\n",
    "    width\n",
    "    height\n",
    "    depth\n",
    "    weight\n",
    "    volume\n",
    "    wattage\n",
    "    maximum_weight_recommendation\n",
    "    voltage\n",
    "}\n",
    "Any numerical values or measurements displayed\n",
    "Any text or labels visible\n",
    "\n",
    "Please list each property with its corresponding value and unit of measurement where applicable. If any standard properties like voltage or wattage are not depicted, simply note that they are not shown in the image. Provide the output in a JSON-like format with key-value pairs. Use the exact keys specified below. Include the unit in the value string. If a specification is not visible or applicable, use 'N/A' as the value.\n",
    "\"\"\"\n",
    "\n",
    "messages = [\n",
    "    {\n",
    "        \"role\": \"user\",\n",
    "        \"content\": [\n",
    "            {\n",
    "                \"type\": \"image\",\n",
    "                \"image\": image_path,\n",
    "            },\n",
    "            {\n",
    "                \"type\": \"text\",\n",
    "                \"text\": prompt\n",
    "            },\n",
    "        ],\n",
    "    }\n",
    "]"
   ]
  },
  {
   "cell_type": "code",
   "execution_count": 26,
   "metadata": {},
   "outputs": [],
   "source": [
    "# Preparation for inference\n",
    "text = processor.apply_chat_template(\n",
    "    messages, tokenize=False, add_generation_prompt=True\n",
    ")"
   ]
  },
  {
   "cell_type": "code",
   "execution_count": 27,
   "metadata": {},
   "outputs": [],
   "source": [
    "image_inputs, video_inputs = process_vision_info(messages)"
   ]
  },
  {
   "cell_type": "code",
   "execution_count": 28,
   "metadata": {},
   "outputs": [],
   "source": [
    "inputs = processor(\n",
    "    text=[text],\n",
    "    images=image_inputs,\n",
    "    videos=video_inputs,\n",
    "    padding=True,\n",
    "    return_tensors=\"pt\",\n",
    ")\n",
    "\n",
    "inputs = inputs.to(\"cuda\")"
   ]
  },
  {
   "cell_type": "code",
   "execution_count": null,
   "metadata": {},
   "outputs": [],
   "source": [
    "# Inference: Generation of the output\n",
    "generated_ids = model.generate(**inputs, max_new_tokens=128)\n",
    "generated_ids_trimmed = [\n",
    "    out_ids[len(in_ids):] for in_ids, out_ids in zip(inputs.input_ids, generated_ids)\n",
    "]"
   ]
  },
  {
   "cell_type": "code",
   "execution_count": null,
   "metadata": {},
   "outputs": [],
   "source": [
    "output_text = processor.batch_decode(\n",
    "    generated_ids_trimmed, skip_special_tokens=True, clean_up_tokenization_spaces=False\n",
    ")\n",
    "\n",
    "print(output_text)"
   ]
  },
  {
   "cell_type": "code",
   "execution_count": null,
   "metadata": {},
   "outputs": [],
   "source": []
  }
 ],
 "metadata": {
  "kernelspec": {
   "display_name": "Python 3",
   "language": "python",
   "name": "python3"
  },
  "language_info": {
   "codemirror_mode": {
    "name": "ipython",
    "version": 3
   },
   "file_extension": ".py",
   "mimetype": "text/x-python",
   "name": "python",
   "nbconvert_exporter": "python",
   "pygments_lexer": "ipython3",
   "version": "3.11.2"
  }
 },
 "nbformat": 4,
 "nbformat_minor": 2
}
